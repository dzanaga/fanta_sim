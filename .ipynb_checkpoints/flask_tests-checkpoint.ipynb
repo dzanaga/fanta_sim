{
 "cells": [
  {
   "cell_type": "code",
   "execution_count": 2,
   "metadata": {
    "collapsed": false
   },
   "outputs": [
    {
     "name": "stderr",
     "output_type": "stream",
     "text": [
      " * Running on http://127.0.0.1:5000/ (Press CTRL+C to quit)\n",
      "127.0.0.1 - - [29/Mar/2017 23:13:28] \"GET / HTTP/1.1\" 200 -\n",
      "127.0.0.1 - - [29/Mar/2017 23:13:34] \"GET / HTTP/1.1\" 200 -\n",
      "127.0.0.1 - - [29/Mar/2017 23:13:35] \"GET /test HTTP/1.1\" 200 -\n"
     ]
    }
   ],
   "source": [
    "from flask import Flask\n",
    "app = Flask(__name__)\n",
    "\n",
    "@app.route(\"/\")\n",
    "def hello():\n",
    "    return \"Hello World!\"\n",
    "\n",
    "@app.route(\"/test\")\n",
    "def test():\n",
    "    return \"Test ok!\"\n",
    "\n",
    "if __name__ == \"__main__\":\n",
    "    app.run()"
   ]
  },
  {
   "cell_type": "code",
   "execution_count": 2,
   "metadata": {
    "collapsed": false
   },
   "outputs": [
    {
     "name": "stderr",
     "output_type": "stream",
     "text": [
      " * Running on http://127.0.0.1:5000/ (Press CTRL+C to quit)\n",
      "127.0.0.1 - - [29/Mar/2017 23:25:36] \"GET / HTTP/1.1\" 404 -\n",
      "[2017-03-29 23:25:42,064] ERROR in app: Exception on /login [GET]\n",
      "Traceback (most recent call last):\n",
      "  File \"/Users/danielezanaga/anaconda/envs/py3cs109/lib/python3.6/site-packages/flask/app.py\", line 1982, in wsgi_app\n",
      "    response = self.full_dispatch_request()\n",
      "  File \"/Users/danielezanaga/anaconda/envs/py3cs109/lib/python3.6/site-packages/flask/app.py\", line 1614, in full_dispatch_request\n",
      "    rv = self.handle_user_exception(e)\n",
      "  File \"/Users/danielezanaga/anaconda/envs/py3cs109/lib/python3.6/site-packages/flask/app.py\", line 1517, in handle_user_exception\n",
      "    reraise(exc_type, exc_value, tb)\n",
      "  File \"/Users/danielezanaga/anaconda/envs/py3cs109/lib/python3.6/site-packages/flask/_compat.py\", line 33, in reraise\n",
      "    raise value\n",
      "  File \"/Users/danielezanaga/anaconda/envs/py3cs109/lib/python3.6/site-packages/flask/app.py\", line 1612, in full_dispatch_request\n",
      "    rv = self.dispatch_request()\n",
      "  File \"/Users/danielezanaga/anaconda/envs/py3cs109/lib/python3.6/site-packages/flask/app.py\", line 1598, in dispatch_request\n",
      "    return self.view_functions[rule.endpoint](**req.view_args)\n",
      "  File \"<ipython-input-2-603e2bf1d4fc>\", line 16, in login\n",
      "    return render_template('login.html', error=error)\n",
      "NameError: name 'render_template' is not defined\n",
      "127.0.0.1 - - [29/Mar/2017 23:25:42] \"GET /login HTTP/1.1\" 500 -\n"
     ]
    }
   ],
   "source": [
    "from flask import request\n",
    "from flask import Flask\n",
    "app = Flask(__name__)\n",
    "\n",
    "@app.route('/login', methods=['POST', 'GET'])\n",
    "@app.route('/url_which_handles_form_data/', methods=['POST'])\n",
    "def handle_data():\n",
    "    projectpath = request.form.projectFilePath\n",
    "        \n",
    "if __name__ == \"__main__\":\n",
    "    app.run()"
   ]
  },
  {
   "cell_type": "code",
   "execution_count": null,
   "metadata": {
    "collapsed": true
   },
   "outputs": [],
   "source": [
    "\n",
    "from flask import Flask, flash, jsonify, render_template, request\n",
    "import webbrowser\n",
    "app = Flask(__name__)\n",
    "\n",
    "\n",
    "@app.route('/')\n",
    "def index():\n",
    "    \"\"\"Load start page where you select your project folder\n",
    "    or load history projects from local DB.\"\"\"\n",
    "    projectpath = request.form.projectFilePath\n",
    "        \n",
    "    return render_template('init.html')"
   ]
  }
 ],
 "metadata": {
  "anaconda-cloud": {},
  "kernelspec": {
   "display_name": "Python [conda env:py3cs109]",
   "language": "python",
   "name": "conda-env-py3cs109-py"
  },
  "language_info": {
   "codemirror_mode": {
    "name": "ipython",
    "version": 3
   },
   "file_extension": ".py",
   "mimetype": "text/x-python",
   "name": "python",
   "nbconvert_exporter": "python",
   "pygments_lexer": "ipython3",
   "version": "3.6.0"
  }
 },
 "nbformat": 4,
 "nbformat_minor": 1
}
