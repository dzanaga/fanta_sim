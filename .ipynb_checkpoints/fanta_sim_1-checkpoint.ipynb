{
 "cells": [
  {
   "cell_type": "markdown",
   "metadata": {
    "deletable": true,
    "editable": true
   },
   "source": [
    "# FantaSim Notebook\n",
    "\n"
   ]
  },
  {
   "cell_type": "code",
   "execution_count": 2,
   "metadata": {
    "collapsed": false,
    "deletable": true,
    "editable": true
   },
   "outputs": [
    {
     "ename": "NameError",
     "evalue": "name 'start_time' is not defined",
     "output_type": "error",
     "traceback": [
      "\u001b[0;31m---------------------------------------------------------------------------\u001b[0m",
      "\u001b[0;31mNameError\u001b[0m                                 Traceback (most recent call last)",
      "\u001b[0;32m<ipython-input-2-9ad05adfbcc3>\u001b[0m in \u001b[0;36m<module>\u001b[0;34m()\u001b[0m\n\u001b[1;32m     83\u001b[0m \u001b[1;33m\u001b[0m\u001b[0m\n\u001b[1;32m     84\u001b[0m \u001b[1;33m\u001b[0m\u001b[0m\n\u001b[0;32m---> 85\u001b[0;31m \u001b[0mprint\u001b[0m\u001b[1;33m(\u001b[0m\u001b[1;34m\"--- %s seconds ---\"\u001b[0m \u001b[1;33m%\u001b[0m \u001b[1;33m(\u001b[0m\u001b[0mtime\u001b[0m\u001b[1;33m.\u001b[0m\u001b[0mtime\u001b[0m\u001b[1;33m(\u001b[0m\u001b[1;33m)\u001b[0m \u001b[1;33m-\u001b[0m \u001b[0mstart_time\u001b[0m\u001b[1;33m)\u001b[0m\u001b[1;33m)\u001b[0m\u001b[1;33m\u001b[0m\u001b[0m\n\u001b[0m\u001b[1;32m     86\u001b[0m \u001b[0mprint\u001b[0m\u001b[1;33m(\u001b[0m\u001b[0mlen\u001b[0m\u001b[1;33m(\u001b[0m\u001b[0mmatches\u001b[0m\u001b[1;33m)\u001b[0m\u001b[1;33m)\u001b[0m\u001b[1;33m\u001b[0m\u001b[0m\n\u001b[1;32m     87\u001b[0m \u001b[0mprint\u001b[0m\u001b[1;33m(\u001b[0m\u001b[0mlen\u001b[0m\u001b[1;33m(\u001b[0m\u001b[0mdays\u001b[0m\u001b[1;33m)\u001b[0m\u001b[1;33m)\u001b[0m\u001b[1;33m\u001b[0m\u001b[0m\n",
      "\u001b[0;31mNameError\u001b[0m: name 'start_time' is not defined"
     ]
    }
   ],
   "source": [
    "import time\n",
    "import string\n",
    "import numpy as np\n",
    "import itertools\n",
    "\n",
    "def print_league(L,n=0):\n",
    "    if n == 0:\n",
    "        n = len(L)\n",
    "    c = 0\n",
    "    for i in L:\n",
    "        if c == n:\n",
    "            break\n",
    "        c += 1\n",
    "        print('\\nCampionato {}:'.format(c))\n",
    "        for j in i:\n",
    "            print(j)\n",
    "            \n",
    "def check_unique_team(L):\n",
    "    #flatten L and convert to string\n",
    "    L_string = [item for sublist in L for item in sublist]\n",
    "    if len(L_string) == len(''.join(set(L_string))):\n",
    "        return True\n",
    "    else:\n",
    "        return False\n",
    "\n",
    "def combinations_noteams(iterable, r):\n",
    "    for matches in itertools.combinations(iterable, int(r)):\n",
    "        #print(matches)\n",
    "        if check_unique_team(matches):\n",
    "            yield matches\n",
    "\n",
    "def get_compatible_lists(giornata,giornate_list):\n",
    "    gi = []\n",
    "    for j in giornate_list:\n",
    "        gg = []\n",
    "        gg.append(giornata)\n",
    "        gg.append(j)\n",
    "        if len(set(flatten_list(gg))) == n_teams:\n",
    "            gi.append(j)\n",
    "    return gi\n",
    "\n",
    "def flatten_list(L): return [item for sublist in L for item in sublist]\n",
    "\n",
    "def create_teams_matches_days(n_teams):\n",
    "\n",
    "    teams = [i for i in string.ascii_lowercase[0:n_teams]]\n",
    "\n",
    "    matches_iter = itertools.combinations(teams,2)\n",
    "    matches = [i for i in matches_iter]\n",
    "    \n",
    "    days_iter = combinations_noteams(matches, n_teams/2)\n",
    "\n",
    "    days = [i for i in days_iter]\n",
    "\n",
    "    return teams,matches,days\n",
    "\n",
    "def create_league(glist):\n",
    "    \n",
    "    L = []\n",
    "    L_all = []\n",
    "    \n",
    "    def create_league_subf(L,glist):\n",
    "\n",
    "        for i in glist:\n",
    "            L1 = L.copy()\n",
    "            L1.append(i)\n",
    "            \n",
    "            if len(L1) == n_teams - 1:\n",
    "                L_all.append(L1)\n",
    "            else:\n",
    "                s1 = get_compatible_lists(i,glist)\n",
    "                create_league_subf(L1,s1)\n",
    "            \n",
    "    create_league_subf(L,glist)\n",
    "    return L_all\n",
    "\n",
    "\n",
    "n_teams = 6\n",
    "\n",
    "teams,matches,days = create_teams_matches_days(n_teams)\n",
    "\n",
    "start_time = time.time()\n",
    "\n",
    "leagues = create_league(days)\n",
    "\n",
    "\n",
    "print(\"--- %s seconds ---\" % (time.time() - start_time))\n",
    "print(len(matches))\n",
    "print(len(days))\n",
    "print(len(leagues))\n",
    "print_league(leagues,3) # print first 3 leagues"
   ]
  },
  {
   "cell_type": "code",
   "execution_count": null,
   "metadata": {
    "collapsed": true
   },
   "outputs": [],
   "source": []
  }
 ],
 "metadata": {
  "kernelspec": {
   "display_name": "Python 3",
   "language": "python",
   "name": "python3"
  },
  "language_info": {
   "codemirror_mode": {
    "name": "ipython",
    "version": 3
   },
   "file_extension": ".py",
   "mimetype": "text/x-python",
   "name": "python",
   "nbconvert_exporter": "python",
   "pygments_lexer": "ipython3",
   "version": "3.5.0"
  }
 },
 "nbformat": 4,
 "nbformat_minor": 2
}
