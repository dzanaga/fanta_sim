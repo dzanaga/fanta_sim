{
 "cells": [
  {
   "cell_type": "markdown",
   "metadata": {
    "deletable": true,
    "editable": true
   },
   "source": [
    "# FantaSim Notebook\n",
    "\n"
   ]
  },
  {
   "cell_type": "code",
   "execution_count": 15,
   "metadata": {
    "collapsed": false,
    "deletable": true,
    "editable": true,
    "scrolled": true
   },
   "outputs": [
    {
     "data": {
      "text/plain": [
       "['a', 'b', 'c', 'd', 'e', 'f', 'g', 'h']"
      ]
     },
     "execution_count": 15,
     "metadata": {},
     "output_type": "execute_result"
    }
   ],
   "source": [
    "# generiamo lista di squadre random\n",
    "import string\n",
    "import numpy as np\n",
    "import itertools\n",
    "\n",
    "n_teams = 8\n",
    "teams = [i for i in string.ascii_lowercase[0:n_teams]]\n",
    "teams"
   ]
  },
  {
   "cell_type": "code",
   "execution_count": 16,
   "metadata": {
    "collapsed": false,
    "deletable": true,
    "editable": true
   },
   "outputs": [],
   "source": [
    "matches = itertools.combinations(teams,2)\n",
    "matches_list = []\n",
    "for i in matches:\n",
    "    matches_list.append(i)"
   ]
  },
  {
   "cell_type": "code",
   "execution_count": 13,
   "metadata": {
    "collapsed": false,
    "deletable": true,
    "editable": true
   },
   "outputs": [
    {
     "name": "stdout",
     "output_type": "stream",
     "text": [
      "(('a', 'b'), ('a', 'c'), ('a', 'd'), ('a', 'e'))\n",
      "(('a', 'b'), ('a', 'c'), ('a', 'd'), ('a', 'f'))\n",
      "(('a', 'b'), ('a', 'c'), ('a', 'd'), ('a', 'g'))\n",
      "(('a', 'b'), ('a', 'c'), ('a', 'd'), ('a', 'h'))\n",
      "(('a', 'b'), ('a', 'c'), ('a', 'd'), ('b', 'c'))\n"
     ]
    }
   ],
   "source": [
    "seasons = itertools.combinations(matches_list,int(n_teams/2))\n",
    "c = 0\n",
    "for i in seasons:\n",
    "    c += 1\n",
    "    print(i)\n",
    "    if c == 5:\n",
    "        break\n",
    "        "
   ]
  },
  {
   "cell_type": "code",
   "execution_count": 23,
   "metadata": {
    "collapsed": false,
    "deletable": true,
    "editable": true
   },
   "outputs": [
    {
     "data": {
      "text/plain": [
       "[('a', 'b'),\n",
       " ('a', 'c'),\n",
       " ('a', 'd'),\n",
       " ('a', 'e'),\n",
       " ('a', 'f'),\n",
       " ('a', 'g'),\n",
       " ('a', 'h'),\n",
       " ('b', 'c'),\n",
       " ('b', 'd'),\n",
       " ('b', 'e'),\n",
       " ('b', 'f'),\n",
       " ('b', 'g'),\n",
       " ('b', 'h'),\n",
       " ('c', 'd'),\n",
       " ('c', 'e'),\n",
       " ('c', 'f'),\n",
       " ('c', 'g'),\n",
       " ('c', 'h'),\n",
       " ('d', 'e'),\n",
       " ('d', 'f'),\n",
       " ('d', 'g'),\n",
       " ('d', 'h'),\n",
       " ('e', 'f'),\n",
       " ('e', 'g'),\n",
       " ('e', 'h'),\n",
       " ('f', 'g'),\n",
       " ('f', 'h'),\n",
       " ('g', 'h')]"
      ]
     },
     "execution_count": 23,
     "metadata": {},
     "output_type": "execute_result"
    }
   ],
   "source": [
    "# genera lista delle partite\n",
    "matches = []\n",
    "\n",
    "for i in teams:\n",
    "    teams_copy = teams.copy()\n",
    "    teams_copy.remove(i)\n",
    "    for j in teams_copy:\n",
    "        flag = 1\n",
    "        for k in permutations((i,j)):\n",
    "            if k in matches:\n",
    "                flag = 0\n",
    "        if flag:\n",
    "            matches.append((i,j))\n",
    "            \n",
    "matches"
   ]
  },
  {
   "cell_type": "code",
   "execution_count": 20,
   "metadata": {
    "collapsed": false,
    "deletable": true,
    "editable": true
   },
   "outputs": [
    {
     "data": {
      "text/plain": [
       "28"
      ]
     },
     "execution_count": 20,
     "metadata": {},
     "output_type": "execute_result"
    }
   ],
   "source": [
    "# genera lista delle giornate\n",
    "\n",
    "for i in matches:\n",
    "    matches_copy = matches.copy()\n",
    "    matches_copy_unique = []\n",
    "    #devo rimuovere tutti i match contenenti gli elementi di i\n",
    "    for j in matches_copy:\n",
    "        if not i[0] in j and not i[1] in j:\n",
    "            matches_copy_unique.append()\n",
    "\n",
    "\n",
    "\n"
   ]
  },
  {
   "cell_type": "code",
   "execution_count": 24,
   "metadata": {
    "collapsed": true,
    "deletable": true,
    "editable": true
   },
   "outputs": [],
   "source": [
    "T = permutations(matches)"
   ]
  },
  {
   "cell_type": "code",
   "execution_count": 3,
   "metadata": {
    "collapsed": false,
    "deletable": true,
    "editable": true
   },
   "outputs": [],
   "source": [
    "permutations?"
   ]
  },
  {
   "cell_type": "code",
   "execution_count": 51,
   "metadata": {
    "collapsed": true,
    "deletable": true,
    "editable": true
   },
   "outputs": [],
   "source": [
    "def combinations_noteams(iterable, r):\n",
    "    for matches in itertools.combinations(iterable, int(r)):\n",
    "        #print(matches)\n",
    "        if check_unique_team(matches):\n",
    "            yield matches"
   ]
  },
  {
   "cell_type": "code",
   "execution_count": null,
   "metadata": {
    "collapsed": true,
    "deletable": true,
    "editable": true
   },
   "outputs": [],
   "source": [
    "# giornate uniche a gruppi di n_teams/2\n",
    "for i in matches:\n",
    "    for j in sub_matches: #sub_matches sono i match senza la squadra 0 e 1 di i"
   ]
  },
  {
   "cell_type": "code",
   "execution_count": 50,
   "metadata": {
    "collapsed": false,
    "deletable": true,
    "editable": true
   },
   "outputs": [
    {
     "data": {
      "text/plain": [
       "<itertools.combinations at 0x702bb2a0>"
      ]
     },
     "execution_count": 50,
     "metadata": {},
     "output_type": "execute_result"
    }
   ],
   "source": [
    "def check_unique_team(L):\n",
    "    #flatten L and convert to string\n",
    "    L_string = [item for sublist in L for item in sublist]\n",
    "    if len(L_string) == len(''.join(set(L_string))):\n",
    "        return True\n",
    "    else:\n",
    "        return False\n",
    "matches"
   ]
  },
  {
   "cell_type": "code",
   "execution_count": 24,
   "metadata": {
    "collapsed": false,
    "deletable": true,
    "editable": true
   },
   "outputs": [
    {
     "name": "stdout",
     "output_type": "stream",
     "text": [
      "['a', 'b', 'c', 'c']\n"
     ]
    }
   ],
   "source": [
    "L = [('a','b'),('c','d')]\n",
    "L_string = [item for sublist in L for item in sublist]\n",
    "print(L_string)"
   ]
  },
  {
   "cell_type": "code",
   "execution_count": 25,
   "metadata": {
    "collapsed": false,
    "deletable": true,
    "editable": true
   },
   "outputs": [
    {
     "name": "stdout",
     "output_type": "stream",
     "text": [
      "4\n"
     ]
    }
   ],
   "source": [
    "print(len(L_string))"
   ]
  },
  {
   "cell_type": "code",
   "execution_count": 26,
   "metadata": {
    "collapsed": false,
    "deletable": true,
    "editable": true
   },
   "outputs": [
    {
     "data": {
      "text/plain": [
       "3"
      ]
     },
     "execution_count": 26,
     "metadata": {},
     "output_type": "execute_result"
    }
   ],
   "source": [
    "len(''.join(set(L_string)))"
   ]
  },
  {
   "cell_type": "code",
   "execution_count": 31,
   "metadata": {
    "collapsed": false,
    "deletable": true,
    "editable": true
   },
   "outputs": [
    {
     "name": "stdout",
     "output_type": "stream",
     "text": [
      "True\n"
     ]
    }
   ],
   "source": [
    "L = [('a','b'),('c','d')]\n",
    "print(check_unique_team(L))"
   ]
  },
  {
   "cell_type": "code",
   "execution_count": 54,
   "metadata": {
    "collapsed": true,
    "deletable": true,
    "editable": true
   },
   "outputs": [],
   "source": [
    "giornate = combinations_noteams(matches_list, n_teams/2)"
   ]
  },
  {
   "cell_type": "code",
   "execution_count": 55,
   "metadata": {
    "collapsed": false,
    "deletable": true,
    "editable": true
   },
   "outputs": [],
   "source": [
    "L = []\n",
    "c = 0\n",
    "for i in giornate:\n",
    "    L.append(i)\n"
   ]
  },
  {
   "cell_type": "code",
   "execution_count": 57,
   "metadata": {
    "collapsed": false,
    "deletable": true,
    "editable": true
   },
   "outputs": [
    {
     "data": {
      "text/plain": [
       "105"
      ]
     },
     "execution_count": 57,
     "metadata": {},
     "output_type": "execute_result"
    }
   ],
   "source": [
    "len(L)"
   ]
  },
  {
   "cell_type": "code",
   "execution_count": 4,
   "metadata": {
    "collapsed": false,
    "deletable": true,
    "editable": true
   },
   "outputs": [
    {
     "ename": "SyntaxError",
     "evalue": "invalid syntax (<ipython-input-4-01ee59818ee8>, line 21)",
     "output_type": "error",
     "traceback": [
      "\u001b[0;36m  File \u001b[0;32m\"<ipython-input-4-01ee59818ee8>\"\u001b[0;36m, line \u001b[0;32m21\u001b[0m\n\u001b[0;31m    def check_unique_\u001b[0m\n\u001b[0m                     ^\u001b[0m\n\u001b[0;31mSyntaxError\u001b[0m\u001b[0;31m:\u001b[0m invalid syntax\n"
     ]
    }
   ],
   "source": [
    "# generiamo lista di squadre random\n",
    "import string\n",
    "import numpy as np\n",
    "import itertools\n",
    "\n",
    "def combinations_noteams(iterable, r):\n",
    "    for matches in itertools.combinations(iterable, int(r)):\n",
    "        #print(matches)\n",
    "        if check_unique_team(matches):\n",
    "            yield matches\n",
    "            \n",
    "def check_unique_team(L):\n",
    "    #flatten L and convert to string\n",
    "    L_string = [item for sublist in L for item in sublist]\n",
    "    if len(L_string) == len(''.join(set(L_string))):\n",
    "        return True\n",
    "    else:\n",
    "        return False\n",
    "\n",
    "    \n",
    "# def check_unique_\n",
    "n_teams = 4\n",
    "teams = [i for i in string.ascii_lowercase[0:n_teams]]\n",
    "\n",
    "matches = itertools.combinations(teams,2)\n",
    "matches_list = []\n",
    "for i in matches:\n",
    "    matches_list.append(i)\n",
    "    \n",
    "giornate = combinations_noteams(matches_list, n_teams/2)\n",
    "\n",
    "giornate_list = []\n",
    "c = 0\n",
    "for i in giornate:\n",
    "    giornate_list.append(i)\n",
    "    \n",
    "len(giornate_list)\n",
    "\n"
   ]
  },
  {
   "cell_type": "code",
   "execution_count": 16,
   "metadata": {
    "collapsed": false,
    "deletable": true,
    "editable": true
   },
   "outputs": [
    {
     "data": {
      "text/plain": [
       "15"
      ]
     },
     "execution_count": 16,
     "metadata": {},
     "output_type": "execute_result"
    }
   ],
   "source": [
    "# generiamo lista di squadre random\n",
    "import string\n",
    "import numpy as np\n",
    "import itertools\n",
    "\n",
    "\n",
    "def check_unique_team(L):\n",
    "    #flatten L and convert to string\n",
    "    L_string = [item for sublist in L for item in sublist]\n",
    "    if len(L_string) == len(''.join(set(L_string))):\n",
    "        return True\n",
    "    else:\n",
    "        return False\n",
    "\n",
    "def combinations_noteams(iterable, r):\n",
    "    for matches in itertools.combinations(iterable, int(r)):\n",
    "        #print(matches)\n",
    "        if check_unique_team(matches):\n",
    "            yield matches\n",
    "            \n",
    "# def check_unique_\n",
    "n_teams = 6\n",
    "teams = [i for i in string.ascii_lowercase[0:n_teams]]\n",
    "\n",
    "matches = itertools.combinations(teams,2)\n",
    "matches_list = [i for i in matches]\n",
    "    \n",
    "giornate = combinations_noteams(matches_list, n_teams/2)\n",
    "\n",
    "giornate_list = [i for i in giornate]\n",
    "\n",
    "    \n",
    "len(giornate_list)"
   ]
  },
  {
   "cell_type": "code",
   "execution_count": 10,
   "metadata": {
    "collapsed": false,
    "deletable": true,
    "editable": true
   },
   "outputs": [
    {
     "data": {
      "text/plain": [
       "6"
      ]
     },
     "execution_count": 10,
     "metadata": {},
     "output_type": "execute_result"
    }
   ],
   "source": [
    "len(matches_list)"
   ]
  },
  {
   "cell_type": "code",
   "execution_count": 13,
   "metadata": {
    "collapsed": false,
    "deletable": true,
    "editable": true
   },
   "outputs": [
    {
     "data": {
      "text/plain": [
       "[(('a', 'b'), ('c', 'd'), ('e', 'f')),\n",
       " (('a', 'b'), ('c', 'e'), ('d', 'f')),\n",
       " (('a', 'b'), ('c', 'f'), ('d', 'e')),\n",
       " (('a', 'c'), ('b', 'd'), ('e', 'f')),\n",
       " (('a', 'c'), ('b', 'e'), ('d', 'f')),\n",
       " (('a', 'c'), ('b', 'f'), ('d', 'e')),\n",
       " (('a', 'd'), ('b', 'c'), ('e', 'f')),\n",
       " (('a', 'd'), ('b', 'e'), ('c', 'f')),\n",
       " (('a', 'd'), ('b', 'f'), ('c', 'e')),\n",
       " (('a', 'e'), ('b', 'c'), ('d', 'f')),\n",
       " (('a', 'e'), ('b', 'd'), ('c', 'f')),\n",
       " (('a', 'e'), ('b', 'f'), ('c', 'd')),\n",
       " (('a', 'f'), ('b', 'c'), ('d', 'e')),\n",
       " (('a', 'f'), ('b', 'd'), ('c', 'e')),\n",
       " (('a', 'f'), ('b', 'e'), ('c', 'd'))]"
      ]
     },
     "execution_count": 13,
     "metadata": {},
     "output_type": "execute_result"
    }
   ],
   "source": [
    "giornate_list"
   ]
  },
  {
   "cell_type": "code",
   "execution_count": 39,
   "metadata": {
    "collapsed": false,
    "deletable": true,
    "editable": true
   },
   "outputs": [],
   "source": [
    "def check_unique_team(L):\n",
    "    #flatten L and convert to string\n",
    "    L_string = [item for sublist in L for item in sublist]\n",
    "    if len(L_string) == len(''.join(set(L_string))):\n",
    "        return True\n",
    "    else:\n",
    "        return False\n",
    "L_string = [item for sublist in i for item in sublist for i in giornate_list ]\n",
    "\n",
    "# for i in giornate_list:\n",
    "#     flag = 0\n",
    "#     for k in giornate_list:\n",
    "#         if set(i).int \n",
    "        "
   ]
  },
  {
   "cell_type": "code",
   "execution_count": 20,
   "metadata": {
    "collapsed": false,
    "deletable": true,
    "editable": true
   },
   "outputs": [
    {
     "ename": "AttributeError",
     "evalue": "'set' object has no attribute 'intersect'",
     "output_type": "error",
     "traceback": [
      "\u001b[0;31m---------------------------------------------------------------------------\u001b[0m",
      "\u001b[0;31mAttributeError\u001b[0m                            Traceback (most recent call last)",
      "\u001b[0;32m<ipython-input-20-5053be30c8bc>\u001b[0m in \u001b[0;36m<module>\u001b[0;34m()\u001b[0m\n\u001b[0;32m----> 1\u001b[0;31m \u001b[0mset\u001b[0m\u001b[0;34m(\u001b[0m\u001b[0mgiornate_list\u001b[0m\u001b[0;34m[\u001b[0m\u001b[0;36m0\u001b[0m\u001b[0;34m]\u001b[0m\u001b[0;34m)\u001b[0m\u001b[0;34m.\u001b[0m\u001b[0mintersect\u001b[0m\u001b[0;34m(\u001b[0m\u001b[0mgiornate_list\u001b[0m\u001b[0;34m[\u001b[0m\u001b[0;36m1\u001b[0m\u001b[0;34m]\u001b[0m\u001b[0;34m)\u001b[0m\u001b[0;34m\u001b[0m\u001b[0m\n\u001b[0m",
      "\u001b[0;31mAttributeError\u001b[0m: 'set' object has no attribute 'intersect'"
     ]
    }
   ],
   "source": [
    "set(giornate_list[0]).intersect(giornate_list[1])"
   ]
  },
  {
   "cell_type": "code",
   "execution_count": 24,
   "metadata": {
    "collapsed": false,
    "deletable": true,
    "editable": true
   },
   "outputs": [
    {
     "data": {
      "text/plain": [
       "{('a', 'b'), ('c', 'd'), ('e', 'f')}"
      ]
     },
     "execution_count": 24,
     "metadata": {},
     "output_type": "execute_result"
    }
   ],
   "source": []
  },
  {
   "cell_type": "code",
   "execution_count": 38,
   "metadata": {
    "collapsed": false,
    "deletable": true,
    "editable": true
   },
   "outputs": [
    {
     "name": "stdout",
     "output_type": "stream",
     "text": [
      "[('a', 'b'), ('c', 'd'), ('e', 'f'), ('a', 'b'), ('c', 'e'), ('d', 'f')]\n",
      "{('e', 'f'), ('c', 'e'), ('a', 'b'), ('d', 'f'), ('c', 'd')}\n"
     ]
    },
    {
     "data": {
      "text/plain": [
       "5"
      ]
     },
     "execution_count": 38,
     "metadata": {},
     "output_type": "execute_result"
    }
   ],
   "source": [
    "test = list(giornate_list)\n",
    "\n",
    "for i in giornate_list[1]:\n",
    "    test.append(i)\n",
    "\n",
    "print(test)\n",
    "test_set = set(test)\n",
    "print(test_set)\n",
    "\n",
    "len(list(test_set))"
   ]
  },
  {
   "cell_type": "code",
   "execution_count": 44,
   "metadata": {
    "collapsed": true,
    "deletable": true,
    "editable": true
   },
   "outputs": [],
   "source": [
    "def flatten_list(L):\n",
    "    return [item for sublist in L for item in sublist]"
   ]
  },
  {
   "cell_type": "code",
   "execution_count": 41,
   "metadata": {
    "collapsed": true,
    "deletable": true,
    "editable": true
   },
   "outputs": [],
   "source": [
    "test = list(giornate)"
   ]
  },
  {
   "cell_type": "code",
   "execution_count": 48,
   "metadata": {
    "collapsed": false
   },
   "outputs": [
    {
     "name": "stdout",
     "output_type": "stream",
     "text": [
      "{('e', 'f'), ('c', 'e'), ('a', 'b'), ('d', 'f'), ('c', 'd')}\n"
     ]
    }
   ],
   "source": [
    "i = giornate_list[0]\n",
    "j = giornate_list[1]\n",
    "gg = []\n",
    "gg.append(i)\n",
    "gg.append(j)\n",
    "print(set(flatten_list(gg)))"
   ]
  },
  {
   "cell_type": "code",
   "execution_count": 58,
   "metadata": {
    "collapsed": false
   },
   "outputs": [
    {
     "name": "stdout",
     "output_type": "stream",
     "text": [
      "9\n",
      "[(('a', 'b'), ('c', 'd'), ('e', 'f')), (('a', 'c'), ('b', 'e'), ('d', 'f')), (('a', 'c'), ('b', 'f'), ('d', 'e')), (('a', 'd'), ('b', 'e'), ('c', 'f')), (('a', 'd'), ('b', 'f'), ('c', 'e')), (('a', 'e'), ('b', 'c'), ('d', 'f')), (('a', 'e'), ('b', 'd'), ('c', 'f')), (('a', 'f'), ('b', 'c'), ('d', 'e')), (('a', 'f'), ('b', 'd'), ('c', 'e'))]\n",
      "9\n"
     ]
    }
   ],
   "source": [
    "i = giornate_list[0]\n",
    "L = []\n",
    "\n",
    "def get_compatible_lists(giornata,giornate_list):\n",
    "    gi = []\n",
    "    for j in giornate_list:\n",
    "        gg = []\n",
    "        gg.append(giornata)\n",
    "        gg.append(j)\n",
    "        if len(set(flatten_list(gg))) == n_teams:\n",
    "            gi.append(j)\n",
    "    return gi\n",
    "\n",
    "g1 = get_compatible_lists(i,giornate_list)\n",
    "#print(len(gi))\n",
    "#print(g1)\n",
    "print(len(g1))\n",
    "\n",
    "g2 = get_compatible_lists(g1[0],g1)\n",
    "print(g2)\n",
    "print(len(g2))\n",
    "\n"
   ]
  },
  {
   "cell_type": "code",
   "execution_count": 59,
   "metadata": {
    "collapsed": false
   },
   "outputs": [
    {
     "data": {
      "text/plain": [
       "15"
      ]
     },
     "execution_count": 59,
     "metadata": {},
     "output_type": "execute_result"
    }
   ],
   "source": [
    "g3 = flatten_list(g2)\n",
    "len(set(g3))"
   ]
  },
  {
   "cell_type": "code",
   "execution_count": 60,
   "metadata": {
    "collapsed": false
   },
   "outputs": [
    {
     "data": {
      "text/plain": [
       "27"
      ]
     },
     "execution_count": 60,
     "metadata": {},
     "output_type": "execute_result"
    }
   ],
   "source": [
    "len(g3)"
   ]
  },
  {
   "cell_type": "code",
   "execution_count": null,
   "metadata": {
    "collapsed": true
   },
   "outputs": [],
   "source": [
    "campionati = []\n",
    "\n",
    "for i in giornate_list:\n",
    "    \n",
    "    L = []\n",
    "    L.append(i)\n",
    "    sub1 = get_compatible_lists(i,giornate_list)\n",
    "    \n",
    "    for j in sub1_gl:\n",
    "        \n",
    "        L2 = L.copy()\n",
    "        L2.append(j)\n",
    "        sub2_gl = get_compatible_lists(j,sub1)\n",
    "        \n",
    "        for k in sub2:\n",
    "        \n",
    "            L3 = L2.copy()\n",
    "            L3.append(j)\n",
    "            sub3 = get_compatible_lists(k,sub2)\n",
    "        \n",
    "        \n",
    "        "
   ]
  },
  {
   "cell_type": "code",
   "execution_count": 74,
   "metadata": {
    "collapsed": false
   },
   "outputs": [],
   "source": [
    "def sub_rout0(L0,giornate_list):\n",
    "    for i in giornate_list:\n",
    "        L = L0.copy()\n",
    "        L.append(i)\n",
    "        sub1 = get_compatible_lists(i,giornate_list)\n",
    "        yield L,sub1\n",
    "\n",
    "L0 = []\n",
    "# L_all = []\n",
    "# sub_all = []\n",
    "# L_all.append(L0)\n",
    "# sub_all.append(giornate_list)\n",
    "\n",
    "# for i in range(n_teams-1):\n",
    "#     L1,sub1 = sub_rout0(L_all[i],sub_all[i])\n",
    "#     L_all.append(L1)\n",
    "#     sub_all.append(sub1)\n",
    "\n",
    "Lgen1 = sub_rout0(L0,giornate_list)\n",
    "\n",
    "Lgen2 = sub_rout0(Lgen1,giornate_list)"
   ]
  },
  {
   "cell_type": "code",
   "execution_count": 75,
   "metadata": {
    "collapsed": false
   },
   "outputs": [],
   "source": [
    "Lgen1 = sub_rout0(L0,giornate_list)\n",
    "    \n",
    "    a = next(Lgen1)\n",
    "\n"
   ]
  },
  {
   "cell_type": "code",
   "execution_count": 83,
   "metadata": {
    "collapsed": false
   },
   "outputs": [],
   "source": [
    "Lgen1 = sub_rout0(L0,giornate_list)"
   ]
  },
  {
   "cell_type": "code",
   "execution_count": 87,
   "metadata": {
    "collapsed": true
   },
   "outputs": [],
   "source": [
    "def roundrobin(*iterables):\n",
    "    \"roundrobin('ABC', 'D', 'EF') --> A D E B F C\"\n",
    "    # Recipe credited to George Sakkis\n",
    "    pending = len(iterables)\n",
    "    nexts = itertools.cycle(iter(it).__next__ for it in iterables)\n",
    "    while pending:\n",
    "        try:\n",
    "            for next in nexts:\n",
    "                yield next()\n",
    "        except StopIteration:\n",
    "            pending -= 1\n",
    "            nexts = itertools.cycle(islice(nexts, pending))"
   ]
  },
  {
   "cell_type": "code",
   "execution_count": 88,
   "metadata": {
    "collapsed": false
   },
   "outputs": [],
   "source": [
    "a= roundrobin(Lgen1)"
   ]
  },
  {
   "cell_type": "code",
   "execution_count": 96,
   "metadata": {
    "collapsed": false
   },
   "outputs": [
    {
     "name": "stdout",
     "output_type": "stream",
     "text": [
      "([(('a', 'c'), ('b', 'f'), ('d', 'e'))], [(('a', 'c'), ('b', 'f'), ('d', 'e')), (('a', 'b'), ('c', 'd'), ('e', 'f')), (('a', 'b'), ('c', 'e'), ('d', 'f')), (('a', 'd'), ('b', 'c'), ('e', 'f')), (('a', 'd'), ('b', 'e'), ('c', 'f')), (('a', 'e'), ('b', 'c'), ('d', 'f')), (('a', 'e'), ('b', 'd'), ('c', 'f')), (('a', 'f'), ('b', 'd'), ('c', 'e')), (('a', 'f'), ('b', 'e'), ('c', 'd'))])\n"
     ]
    }
   ],
   "source": [
    "print(next(a))"
   ]
  },
  {
   "cell_type": "code",
   "execution_count": 91,
   "metadata": {
    "collapsed": false
   },
   "outputs": [],
   "source": [
    "t = next(a)"
   ]
  },
  {
   "cell_type": "code",
   "execution_count": 97,
   "metadata": {
    "collapsed": false
   },
   "outputs": [],
   "source": [
    "for i in []:\n",
    "    print('ciao')"
   ]
  },
  {
   "cell_type": "code",
   "execution_count": 110,
   "metadata": {
    "collapsed": false
   },
   "outputs": [
    {
     "name": "stdout",
     "output_type": "stream",
     "text": [
      "(('a', 'b'), ('c', 'd'), ('e', 'f'))\n",
      "[(('a', 'b'), ('c', 'd'), ('e', 'f')), (('a', 'c'), ('b', 'e'), ('d', 'f')), (('a', 'c'), ('b', 'f'), ('d', 'e')), (('a', 'd'), ('b', 'e'), ('c', 'f')), (('a', 'd'), ('b', 'f'), ('c', 'e')), (('a', 'e'), ('b', 'c'), ('d', 'f')), (('a', 'e'), ('b', 'd'), ('c', 'f')), (('a', 'f'), ('b', 'c'), ('d', 'e')), (('a', 'f'), ('b', 'd'), ('c', 'e'))]\n"
     ]
    }
   ],
   "source": [
    "L_all = []\n",
    "for i in giornate_list:\n",
    "    L1 = L0.copy()\n",
    "    L1.append(i)\n",
    "    s1 = get_compatible_lists(i,giornate_list)\n",
    "    print(i)\n",
    "    print(s1)\n",
    "    break\n",
    "    for j in s1:\n",
    "        L2 = L1.copy()\n",
    "        L2.append(j)\n",
    "        s2 = get_compatible_lists(j,s1)\n",
    "        print(i)\n",
    "        print(j)\n",
    "        print(s1)\n",
    "        print(s2)\n",
    "        break\n",
    "        for k in s2:\n",
    "            L3 = L2.copy()\n",
    "            L3.append(k)\n",
    "            s3 = get_compatible_lists(k,s2)\n",
    "            for l in s3:\n",
    "                L4 = L3.copy()\n",
    "                L4.append(l)\n",
    "                s4 = get_compatible_lists(l,s3)\n",
    "                for m in s4:\n",
    "                    L5 = L4.copy()\n",
    "                    L5.append(m)\n",
    "                    L_all.append(L5)\n",
    "                        "
   ]
  },
  {
   "cell_type": "code",
   "execution_count": 100,
   "metadata": {
    "collapsed": false
   },
   "outputs": [
    {
     "data": {
      "text/plain": [
       "21735"
      ]
     },
     "execution_count": 100,
     "metadata": {},
     "output_type": "execute_result"
    }
   ],
   "source": [
    "len(L_all)"
   ]
  },
  {
   "cell_type": "code",
   "execution_count": 105,
   "metadata": {
    "collapsed": false
   },
   "outputs": [
    {
     "name": "stdout",
     "output_type": "stream",
     "text": [
      "(('a', 'b'), ('c', 'd'), ('e', 'f'))\n",
      "(('a', 'b'), ('c', 'd'), ('e', 'f'))\n",
      "(('a', 'b'), ('c', 'd'), ('e', 'f'))\n",
      "(('a', 'b'), ('c', 'd'), ('e', 'f'))\n",
      "(('a', 'b'), ('c', 'd'), ('e', 'f'))\n"
     ]
    }
   ],
   "source": [
    "for i in L_all[0]:\n",
    "    print(i)"
   ]
  },
  {
   "cell_type": "code",
   "execution_count": null,
   "metadata": {
    "collapsed": true
   },
   "outputs": [],
   "source": []
  }
 ],
 "metadata": {
  "kernelspec": {
   "display_name": "Python 3",
   "language": "python",
   "name": "python3"
  },
  "language_info": {
   "codemirror_mode": {
    "name": "ipython",
    "version": 3
   },
   "file_extension": ".py",
   "mimetype": "text/x-python",
   "name": "python",
   "nbconvert_exporter": "python",
   "pygments_lexer": "ipython3",
   "version": "3.6.0"
  }
 },
 "nbformat": 4,
 "nbformat_minor": 2
}
