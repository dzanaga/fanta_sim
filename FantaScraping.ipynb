{
 "cells": [
  {
   "cell_type": "markdown",
   "metadata": {},
   "source": [
    "# Fanta Scraping"
   ]
  },
  {
   "cell_type": "code",
   "execution_count": 64,
   "metadata": {
    "collapsed": false
   },
   "outputs": [],
   "source": [
    "import bs4\n",
    "import urllib\n",
    "import pandas as pd\n",
    "import re\n",
    "import requests\n",
    "import numpy as np\n",
    "from IPython.core.display import display, HTML"
   ]
  },
  {
   "cell_type": "markdown",
   "metadata": {},
   "source": [
    "## Importa nomi squadre"
   ]
  },
  {
   "cell_type": "code",
   "execution_count": 60,
   "metadata": {
    "collapsed": false
   },
   "outputs": [
    {
     "name": "stdout",
     "output_type": "stream",
     "text": [
      "FC ROXY\n",
      "FC Pastaboy\n",
      "Bucalina FC\n",
      "Fc Stress\n",
      "Ciolle United\n",
      "AC PICCHIA\n",
      "FC BOMBAGALLO\n",
      "LA CORRAZZATA POTEMKIN\n"
     ]
    }
   ],
   "source": [
    "url = 'http://leghe.fantagazzetta.com/fantascandalo/tutte-le-rose'\n",
    "# url = 'http://leghe.fantagazzetta.com/fantascandalo/calendario'\n",
    "source = requests.get(url)\n",
    "soup = bs4.BeautifulSoup(source.content, \"lxml\")\n",
    "\n",
    "# print(soup.prettify())\n",
    "\n",
    "tr = soup.find_all('tr')\n",
    "team_names = []\n",
    "for i in tr:\n",
    "    trows = [k.string for k in i.children]\n",
    "    for j in range(len(trows)):\n",
    "        if trows[j] == \"squadra\":\n",
    "            team_names.append(trows[j-1])  \n",
    "            print(trows[j-1])\n",
    "            \n",
    "            "
   ]
  },
  {
   "cell_type": "code",
   "execution_count": 61,
   "metadata": {
    "collapsed": false
   },
   "outputs": [
    {
     "name": "stdout",
     "output_type": "stream",
     "text": [
      "['FC ROXY', 'FC Pastaboy', 'Bucalina FC', 'Fc Stress', 'Ciolle United', 'AC PICCHIA', 'FC BOMBAGALLO', 'LA CORRAZZATA POTEMKIN']\n"
     ]
    }
   ],
   "source": [
    "print(team_names)"
   ]
  },
  {
   "cell_type": "code",
   "execution_count": 97,
   "metadata": {
    "collapsed": false
   },
   "outputs": [],
   "source": [
    "a = np.random.rand(36,8)\n",
    "a[:] = (a[:]*30+60)*2\n",
    "a = a.round()/2"
   ]
  },
  {
   "cell_type": "code",
   "execution_count": 98,
   "metadata": {
    "collapsed": false,
    "scrolled": true
   },
   "outputs": [
    {
     "data": {
      "text/html": [
       "<div>\n",
       "<table border=\"1\" class=\"dataframe\">\n",
       "  <thead>\n",
       "    <tr style=\"text-align: right;\">\n",
       "      <th></th>\n",
       "      <th>FC ROXY</th>\n",
       "      <th>FC Pastaboy</th>\n",
       "      <th>Bucalina FC</th>\n",
       "      <th>Fc Stress</th>\n",
       "      <th>Ciolle United</th>\n",
       "      <th>AC PICCHIA</th>\n",
       "      <th>FC BOMBAGALLO</th>\n",
       "      <th>LA CORRAZZATA POTEMKIN</th>\n",
       "    </tr>\n",
       "  </thead>\n",
       "  <tbody>\n",
       "    <tr>\n",
       "      <th>1</th>\n",
       "      <td>72.5</td>\n",
       "      <td>64.5</td>\n",
       "      <td>89.0</td>\n",
       "      <td>84.0</td>\n",
       "      <td>86.0</td>\n",
       "      <td>89.0</td>\n",
       "      <td>74.5</td>\n",
       "      <td>76.5</td>\n",
       "    </tr>\n",
       "    <tr>\n",
       "      <th>2</th>\n",
       "      <td>61.0</td>\n",
       "      <td>78.5</td>\n",
       "      <td>64.5</td>\n",
       "      <td>69.0</td>\n",
       "      <td>66.0</td>\n",
       "      <td>71.0</td>\n",
       "      <td>80.0</td>\n",
       "      <td>64.5</td>\n",
       "    </tr>\n",
       "    <tr>\n",
       "      <th>3</th>\n",
       "      <td>68.5</td>\n",
       "      <td>61.0</td>\n",
       "      <td>69.5</td>\n",
       "      <td>84.0</td>\n",
       "      <td>78.0</td>\n",
       "      <td>60.5</td>\n",
       "      <td>84.0</td>\n",
       "      <td>64.5</td>\n",
       "    </tr>\n",
       "    <tr>\n",
       "      <th>4</th>\n",
       "      <td>86.0</td>\n",
       "      <td>77.5</td>\n",
       "      <td>68.5</td>\n",
       "      <td>74.5</td>\n",
       "      <td>78.5</td>\n",
       "      <td>86.0</td>\n",
       "      <td>76.5</td>\n",
       "      <td>86.0</td>\n",
       "    </tr>\n",
       "    <tr>\n",
       "      <th>5</th>\n",
       "      <td>84.0</td>\n",
       "      <td>75.5</td>\n",
       "      <td>79.0</td>\n",
       "      <td>67.5</td>\n",
       "      <td>77.5</td>\n",
       "      <td>76.0</td>\n",
       "      <td>72.0</td>\n",
       "      <td>68.0</td>\n",
       "    </tr>\n",
       "  </tbody>\n",
       "</table>\n",
       "</div>"
      ],
      "text/plain": [
       "   FC ROXY  FC Pastaboy  Bucalina FC  Fc Stress  Ciolle United  AC PICCHIA  \\\n",
       "1     72.5         64.5         89.0       84.0           86.0        89.0   \n",
       "2     61.0         78.5         64.5       69.0           66.0        71.0   \n",
       "3     68.5         61.0         69.5       84.0           78.0        60.5   \n",
       "4     86.0         77.5         68.5       74.5           78.5        86.0   \n",
       "5     84.0         75.5         79.0       67.5           77.5        76.0   \n",
       "\n",
       "   FC BOMBAGALLO  LA CORRAZZATA POTEMKIN  \n",
       "1           74.5                    76.5  \n",
       "2           80.0                    64.5  \n",
       "3           84.0                    64.5  \n",
       "4           76.5                    86.0  \n",
       "5           72.0                    68.0  "
      ]
     },
     "execution_count": 98,
     "metadata": {},
     "output_type": "execute_result"
    }
   ],
   "source": [
    "df_teams = pd.DataFrame(data = a, index = np.arange(36)+1, columns=team_names)\n",
    "df_teams.head()"
   ]
  },
  {
   "cell_type": "code",
   "execution_count": 78,
   "metadata": {
    "collapsed": false
   },
   "outputs": [
    {
     "data": {
      "text/html": [
       "<div>\n",
       "<table border=\"1\" class=\"dataframe\">\n",
       "  <thead>\n",
       "    <tr style=\"text-align: right;\">\n",
       "      <th></th>\n",
       "      <th>FC ROXY</th>\n",
       "      <th>FC Pastaboy</th>\n",
       "      <th>Bucalina FC</th>\n",
       "      <th>Fc Stress</th>\n",
       "      <th>Ciolle United</th>\n",
       "      <th>AC PICCHIA</th>\n",
       "      <th>FC BOMBAGALLO</th>\n",
       "      <th>LA CORRAZZATA POTEMKIN</th>\n",
       "    </tr>\n",
       "  </thead>\n",
       "  <tbody>\n",
       "    <tr>\n",
       "      <th>1</th>\n",
       "      <td>NaN</td>\n",
       "      <td>NaN</td>\n",
       "      <td>NaN</td>\n",
       "      <td>NaN</td>\n",
       "      <td>NaN</td>\n",
       "      <td>NaN</td>\n",
       "      <td>NaN</td>\n",
       "      <td>NaN</td>\n",
       "    </tr>\n",
       "    <tr>\n",
       "      <th>2</th>\n",
       "      <td>1.0</td>\n",
       "      <td>NaN</td>\n",
       "      <td>NaN</td>\n",
       "      <td>NaN</td>\n",
       "      <td>NaN</td>\n",
       "      <td>NaN</td>\n",
       "      <td>NaN</td>\n",
       "      <td>NaN</td>\n",
       "    </tr>\n",
       "    <tr>\n",
       "      <th>3</th>\n",
       "      <td>NaN</td>\n",
       "      <td>NaN</td>\n",
       "      <td>NaN</td>\n",
       "      <td>NaN</td>\n",
       "      <td>NaN</td>\n",
       "      <td>NaN</td>\n",
       "      <td>NaN</td>\n",
       "      <td>NaN</td>\n",
       "    </tr>\n",
       "    <tr>\n",
       "      <th>4</th>\n",
       "      <td>NaN</td>\n",
       "      <td>NaN</td>\n",
       "      <td>NaN</td>\n",
       "      <td>NaN</td>\n",
       "      <td>NaN</td>\n",
       "      <td>NaN</td>\n",
       "      <td>NaN</td>\n",
       "      <td>NaN</td>\n",
       "    </tr>\n",
       "    <tr>\n",
       "      <th>5</th>\n",
       "      <td>NaN</td>\n",
       "      <td>NaN</td>\n",
       "      <td>NaN</td>\n",
       "      <td>NaN</td>\n",
       "      <td>NaN</td>\n",
       "      <td>NaN</td>\n",
       "      <td>NaN</td>\n",
       "      <td>NaN</td>\n",
       "    </tr>\n",
       "  </tbody>\n",
       "</table>\n",
       "</div>"
      ],
      "text/plain": [
       "   FC ROXY  FC Pastaboy  Bucalina FC  Fc Stress  Ciolle United  AC PICCHIA  \\\n",
       "1      NaN          NaN          NaN        NaN            NaN         NaN   \n",
       "2      1.0          NaN          NaN        NaN            NaN         NaN   \n",
       "3      NaN          NaN          NaN        NaN            NaN         NaN   \n",
       "4      NaN          NaN          NaN        NaN            NaN         NaN   \n",
       "5      NaN          NaN          NaN        NaN            NaN         NaN   \n",
       "\n",
       "   FC BOMBAGALLO  LA CORRAZZATA POTEMKIN  \n",
       "1            NaN                     NaN  \n",
       "2            NaN                     NaN  \n",
       "3            NaN                     NaN  \n",
       "4            NaN                     NaN  \n",
       "5            NaN                     NaN  "
      ]
     },
     "execution_count": 78,
     "metadata": {},
     "output_type": "execute_result"
    }
   ],
   "source": [
    "df_teams['FC ROXY'][2] = 1\n",
    "df_teams.head()"
   ]
  },
  {
   "cell_type": "markdown",
   "metadata": {
    "collapsed": true
   },
   "source": [
    "## Importa punti per giornata"
   ]
  },
  {
   "cell_type": "code",
   "execution_count": 79,
   "metadata": {
    "collapsed": false
   },
   "outputs": [],
   "source": [
    "url = 'http://leghe.fantagazzetta.com/fantascandalo/calendario'\n",
    "source = requests.get(url)\n",
    "soup = bs4.BeautifulSoup(source.content, \"lxml\")\n",
    "tr = soup.find_all('tr')                  "
   ]
  },
  {
   "cell_type": "code",
   "execution_count": 81,
   "metadata": {
    "collapsed": false
   },
   "outputs": [
    {
     "name": "stdout",
     "output_type": "stream",
     "text": [
      "1a GIORNATA - 2a Serie A\n"
     ]
    },
    {
     "ename": "AttributeError",
     "evalue": "'NoneType' object has no attribute 'split'",
     "output_type": "error",
     "traceback": [
      "\u001b[0;31m---------------------------------------------------------------------------\u001b[0m",
      "\u001b[0;31mAttributeError\u001b[0m                            Traceback (most recent call last)",
      "\u001b[0;32m<ipython-input-81-dcc4c9602b4f>\u001b[0m in \u001b[0;36m<module>\u001b[0;34m()\u001b[0m\n\u001b[1;32m      7\u001b[0m     \u001b[1;32mfor\u001b[0m \u001b[0mj\u001b[0m \u001b[1;32min\u001b[0m \u001b[0mtrows\u001b[0m\u001b[1;33m:\u001b[0m\u001b[1;33m\u001b[0m\u001b[0m\n\u001b[1;32m      8\u001b[0m         \u001b[0ms\u001b[0m \u001b[1;33m=\u001b[0m \u001b[0mprint_risultato\u001b[0m\u001b[1;33m(\u001b[0m\u001b[0mj\u001b[0m\u001b[1;33m)\u001b[0m\u001b[1;33m\u001b[0m\u001b[0m\n\u001b[0;32m----> 9\u001b[0;31m         \u001b[1;32mif\u001b[0m \u001b[1;34m'GIORNATA'\u001b[0m \u001b[1;32min\u001b[0m \u001b[0ms\u001b[0m\u001b[1;33m.\u001b[0m\u001b[0msplit\u001b[0m\u001b[1;33m(\u001b[0m\u001b[1;33m)\u001b[0m\u001b[1;33m:\u001b[0m\u001b[1;33m\u001b[0m\u001b[0m\n\u001b[0m\u001b[1;32m     10\u001b[0m             \u001b[0mprint\u001b[0m\u001b[1;33m(\u001b[0m\u001b[0ms\u001b[0m\u001b[1;33m[\u001b[0m\u001b[1;36m0\u001b[0m\u001b[1;33m]\u001b[0m\u001b[1;33m)\u001b[0m\u001b[1;33m\u001b[0m\u001b[0m\n\u001b[1;32m     11\u001b[0m \u001b[1;31m#     print('\\n\\n')\u001b[0m\u001b[1;33m\u001b[0m\u001b[1;33m\u001b[0m\u001b[0m\n",
      "\u001b[0;31mAttributeError\u001b[0m: 'NoneType' object has no attribute 'split'"
     ]
    }
   ],
   "source": [
    "\n",
    "squadre = []\n",
    "trows = []\n",
    "for i in tr:\n",
    "    \n",
    "    trows = [k for k in i.children]\n",
    "    for j in trows:\n",
    "        s = print_risultato(j)\n",
    "        if type(s) is str and 'GIORNATA' in s.split():\n",
    "\n",
    "#     print('\\n\\n')\n",
    "#     for j in range(len(trows)):\n",
    "#         pass\n",
    "# #         if trows[j] == \"GIORNATA\":\n",
    "# #             print(trows[j-1])\n",
    "#         print()\n",
    "#         if type(trows[j]) != str:\n",
    "#             print_risultato(trows[j])\n",
    "#         else:\n",
    "#             print('String: ' + trows[j])\n",
    "#     print('\\n\\n')"
   ]
  },
  {
   "cell_type": "code",
   "execution_count": 49,
   "metadata": {
    "collapsed": false
   },
   "outputs": [],
   "source": [
    "for i in trows:\n",
    "    print_risultato(i)"
   ]
  },
  {
   "cell_type": "code",
   "execution_count": 52,
   "metadata": {
    "collapsed": false,
    "scrolled": true
   },
   "outputs": [
    {
     "name": "stdout",
     "output_type": "stream",
     "text": [
      "[<td class=\"match\"><span class=\"ssteam tleft\"><a href=\"http://leghe.fantagazzetta.com/fantascandalo/dettaglio-rosa/fc-pastaboy/1102066\" title=\"Visualizza i dettagli della squadra FC Pastaboy\">FC Pastaboy</a></span> <span class=\"point\">67,50</span> - <span class=\"point\">75,00</span> <span class=\"ssteam tright\"><a href=\"http://leghe.fantagazzetta.com/fantascandalo/dettaglio-rosa/bucalina-fc/1101833\" title=\"Visualizza i dettagli della squadra Bucalina FC\">Bucalina FC</a></span></td>, <td class=\"result\">1-2</td>]\n"
     ]
    }
   ],
   "source": [
    "print(trows[1])"
   ]
  },
  {
   "cell_type": "code",
   "execution_count": 57,
   "metadata": {
    "collapsed": false
   },
   "outputs": [
    {
     "data": {
      "text/plain": [
       "bs4.element.Tag"
      ]
     },
     "execution_count": 57,
     "metadata": {},
     "output_type": "execute_result"
    }
   ],
   "source": [
    "type(trows[0])"
   ]
  },
  {
   "cell_type": "code",
   "execution_count": 80,
   "metadata": {
    "collapsed": true
   },
   "outputs": [],
   "source": [
    "def print_risultato(test):\n",
    "    \n",
    "    if type(test) is bs4.element.Tag:\n",
    "        for i in test.children:\n",
    "            print_risultato(i)\n",
    "    else:\n",
    "        print(test)\n",
    "        return(test)"
   ]
  },
  {
   "cell_type": "code",
   "execution_count": null,
   "metadata": {
    "collapsed": true
   },
   "outputs": [],
   "source": []
  }
 ],
 "metadata": {
  "kernelspec": {
   "display_name": "Python 3",
   "language": "python",
   "name": "python3"
  },
  "language_info": {
   "codemirror_mode": {
    "name": "ipython",
    "version": 3
   },
   "file_extension": ".py",
   "mimetype": "text/x-python",
   "name": "python",
   "nbconvert_exporter": "python",
   "pygments_lexer": "ipython3",
   "version": "3.6.0"
  }
 },
 "nbformat": 4,
 "nbformat_minor": 2
}
