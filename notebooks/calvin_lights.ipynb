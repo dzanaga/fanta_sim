{
 "cells": [
  {
   "cell_type": "code",
   "execution_count": 1,
   "metadata": {
    "collapsed": true
   },
   "outputs": [],
   "source": [
    "import random\n"
   ]
  },
  {
   "cell_type": "code",
   "execution_count": null,
   "metadata": {
    "collapsed": true
   },
   "outputs": [],
   "source": [
    "t = random.randint(1,80)"
   ]
  },
  {
   "cell_type": "code",
   "execution_count": 191,
   "metadata": {
    "collapsed": false
   },
   "outputs": [
    {
     "name": "stdout",
     "output_type": "stream",
     "text": [
      "24.982\n"
     ]
    }
   ],
   "source": [
    "\n",
    "def get_waiting_time(n_lights,n_wand,t_use_wand):\n",
    "    \n",
    "    total_time = 0\n",
    "    \n",
    "    for i in range(n_lights):\n",
    "\n",
    "        t_status = random.randint(0,1) # Calvin approaches the next light and sees\n",
    "                                       # if the light is green or red\n",
    "        if not t_status: # if the light is red, he needs to decide wether waiting or\n",
    "                         # use is magic wand\n",
    "\n",
    "            if n_lights <= n_wand: # if the remaining number of lights is less/equal\n",
    "                break              # than the number of wand uses left, he does not have to wait anymore                   \n",
    "\n",
    "            t_light = random.randint(0,80) # Calvin approaches the next light and sees\n",
    "                                           # the time left before the light switches to green\n",
    "\n",
    "            if n_wand and t_light >= t_use_wand: # he decides if he waits or use the wand \n",
    "                n_wand -= 1\n",
    "\n",
    "            else:\n",
    "                total_time += t_light\n",
    "        n_lights -= 1 # he passed the light, 1 less remaining\n",
    "\n",
    "    return total_time\n",
    "\n",
    "\n",
    "def run_simulation(n_trials,n_lights,n_wand,t_use_wand):\n",
    "    \n",
    "    total_sim_time = 0\n",
    "    \n",
    "    for i in range(n_trials):\n",
    "        \n",
    "        total_sim_time += get_waiting_time(n_lights,n_wand,t_use_wand)\n",
    "        \n",
    "    expected_time = total_sim_time/n_trials\n",
    "        \n",
    "    return  expected_time\n",
    "\n",
    "\n",
    "n_lights = 3\n",
    "n_wand = 1\n",
    "t_use_wand = 0\n",
    "\n",
    "n_trials = 1000000\n",
    "\n",
    "expected_time = run_simulation(n_trials,n_lights,n_wand,t_use_wand)\n",
    "\n",
    "print(round(expected_time,3))"
   ]
  },
  {
   "cell_type": "code",
   "execution_count": 57,
   "metadata": {
    "collapsed": false
   },
   "outputs": [
    {
     "data": {
      "text/plain": [
       "9.875"
      ]
     },
     "execution_count": 57,
     "metadata": {},
     "output_type": "execute_result"
    }
   ],
   "source": [
    "79/8"
   ]
  },
  {
   "cell_type": "code",
   "execution_count": 84,
   "metadata": {
    "collapsed": false
   },
   "outputs": [
    {
     "name": "stdout",
     "output_type": "stream",
     "text": [
      "lights remaining: 2\n",
      "satus: 1\n",
      "lights remaining: 1\n",
      "satus: 0\n",
      "wands remaining: 1\n",
      "Waited time: 0\n"
     ]
    }
   ],
   "source": [
    "n_lights = 2\n",
    "n_wand = 1\n",
    "t_use_wand = 0\n",
    "total_time = 0\n",
    "\n",
    "\n",
    "for i in range(n_lights):\n",
    "    \n",
    "    print('lights remaining: {}'.format(n_lights))\n",
    "    \n",
    "    t_status = random.randint(0,1) # Calvin approaches the next light and sees\n",
    "                                   # if the light is green or red\n",
    "    print('satus: {}'.format(t_status))\n",
    "    \n",
    "    if not t_status: # if the light is red, he needs to decide wether waiting or\n",
    "                     # use is magic wand\n",
    "        print('wands remaining: {}'.format(n_wand))\n",
    "        if n_lights <= n_wand: # if the remaining number of lights is less/equal\n",
    "            break              # than the number of wand uses left, he does not have to wait anymore                   \n",
    "\n",
    "        t_light = random.randint(1,80) # Calvin approaches the next light and sees\n",
    "        print('time to wait: {}'.format(t_light))                              # the time left before the light switches to green\n",
    "        \n",
    "        if n_wand and t_light > t_use_wand: # he decides if he waits or use the wand \n",
    "            n_wand -= 1\n",
    "\n",
    "        else:\n",
    "            total_time += t_light\n",
    "    n_lights -= 1 # he passed the light, 1 less remaining\n",
    "    \n",
    "print('Waited time: {}'.format(total_time))"
   ]
  },
  {
   "cell_type": "code",
   "execution_count": 122,
   "metadata": {
    "collapsed": false
   },
   "outputs": [
    {
     "name": "stdout",
     "output_type": "stream",
     "text": [
      "39.9951901\n"
     ]
    }
   ],
   "source": [
    "n = 10000000\n",
    "t = 0\n",
    "for i in range(n):\n",
    "    t += random.randint(0,80)\n",
    "\n",
    "print(t/n)"
   ]
  },
  {
   "cell_type": "code",
   "execution_count": 108,
   "metadata": {
    "collapsed": false
   },
   "outputs": [
    {
     "data": {
      "text/plain": [
       "25.3125"
      ]
     },
     "execution_count": 108,
     "metadata": {},
     "output_type": "execute_result"
    }
   ],
   "source": [
    "40.5/8*3 + 81/8"
   ]
  },
  {
   "cell_type": "markdown",
   "metadata": {},
   "source": [
    "# Analytical solution\n",
    "\n",
    "${\\displaystyle\\sum_{r=1+w}^{n}\\frac{n!}{r!(n-r)!}\\cdot(r-w)m}$"
   ]
  },
  {
   "cell_type": "code",
   "execution_count": null,
   "metadata": {
    "collapsed": true
   },
   "outputs": [],
   "source": []
  }
 ],
 "metadata": {
  "kernelspec": {
   "display_name": "Python 3",
   "language": "python",
   "name": "python3"
  },
  "language_info": {
   "codemirror_mode": {
    "name": "ipython",
    "version": 3
   },
   "file_extension": ".py",
   "mimetype": "text/x-python",
   "name": "python",
   "nbconvert_exporter": "python",
   "pygments_lexer": "ipython3",
   "version": "3.5.0"
  }
 },
 "nbformat": 4,
 "nbformat_minor": 2
}
