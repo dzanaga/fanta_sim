{
 "cells": [
  {
   "cell_type": "code",
   "execution_count": 74,
   "metadata": {
    "collapsed": false,
    "deletable": true,
    "editable": true
   },
   "outputs": [],
   "source": [
    "import time\n",
    "import string\n",
    "import numpy as np\n",
    "import itertools\n",
    "import os, random\n",
    "import pandas as pd\n",
    "import matplotlib.pylab as plt\n",
    "import requests\n",
    "from bs4 import BeautifulSoup as bs\n",
    "\n",
    "class Team(object):\n",
    "    num_teams = 0\n",
    "    name_teams = []\n",
    "    def __init__(self, name):\n",
    "        self.name = name\n",
    "        self.players = players[self.name]\n",
    "        self.abs_points = abs_points[self.name]\n",
    "        self.position = 0\n",
    "        self.league_points = 0\n",
    "        self.goals_scored = 0\n",
    "        self.goals_taken = 0\n",
    "        self.vic_draw_losses = {}\n",
    "        \n",
    "        Team.num_teams += 1\n",
    "        Team.name_teams.append(self.name)\n",
    "        \n",
    "    def get_name(self):\n",
    "        return self.name\n",
    "        \n",
    "    def get_players_list(self):\n",
    "        return self.players\n",
    "        \n",
    "    def get_abs_points(self):\n",
    "        return self.abs_points\n",
    "        \n",
    "    def get_position(self):\n",
    "        return self.position\n",
    "        \n",
    "    def get_goals_scored(self):\n",
    "        return self.goals_scored\n",
    "    \n",
    "    def set_goals_scored(self, goals):\n",
    "        self.goals_scored += goals\n",
    "\n",
    "    def get_goals_taken(self):\n",
    "        return self.goals_scored\n",
    "    \n",
    "    def set_goals_taken(self, goals):\n",
    "        self.goals_taken += goals\n",
    "    \n",
    "    def get_num_of_teams():\n",
    "        return Team.num_teams\n",
    "        \n",
    "    def get_all_teams():\n",
    "        return Team.name_teams\n",
    "    \n",
    "    def get_league_points(self):\n",
    "        return self.league_points\n",
    "    \n",
    "    def set_league_points(self,points):\n",
    "        self.league_points += points\n",
    "        \n",
    "\n",
    "        \n",
    "    def points_update(self,day):\n",
    "        #Update points of team up to day\n",
    "        self.league_points = 0\n",
    "        for i in range(1,day+1):\n",
    "            if self.vic_draw_losses[i] == 'V':\n",
    "                self.league_points += 3\n",
    "            elif self.vic_draw_losses[i] == 'L':\n",
    "                self.league_points += 0\n",
    "            elif self.vic_draw_losses[i] == 'D':\n",
    "                self.league_points += 1\n",
    "                \n",
    "                \n",
    "    def victory(self,day):\n",
    "        self.vic_draw_losses[day] = 'V'\n",
    "        self.points_update(day)\n",
    "        \n",
    "    def loss(self,day):\n",
    "        self.vic_draw_losses[day] = 'L'\n",
    "        self.points_update(day)\n",
    "        \n",
    "    def draw(self,day):\n",
    "        self.vic_draw_losses[day] = 'D'\n",
    "        self.points_update(day)\n",
    "        \n",
    "        \n",
    "class Match(object):\n",
    "    \n",
    "    def __init__(self, team1, team2, day):\n",
    "        self.team1 = team1\n",
    "        self.team2 = team2\n",
    "        self.day = day\n",
    "        \n",
    "    def play_match(self):\n",
    "        \n",
    "        points1 = self.team1.abs_points\n",
    "        points2 = self.team2.abs_points\n",
    "\n",
    "        temp1 = int(((points1[self.day - 1] - 66) // 6) + 1)\n",
    "        temp2 = int(((points2[self.day - 1] - 66) // 6) + 1)\n",
    "\n",
    "        if temp1 < 0:\n",
    "            temp1 = 0\n",
    "        if temp2 < 0:\n",
    "            temp2 = 0\n",
    "        \n",
    "        self.team1.set_goals_scored(temp1)\n",
    "        self.team2.set_goals_scored(temp2)\n",
    "        \n",
    "        if temp1 > temp2:\n",
    "            self.team1.victory(self.day)\n",
    "            self.team2.loss(self.day)\n",
    "        elif temp1 < temp2:\n",
    "            self.team2.victory(self.day)\n",
    "            self.team1.loss(self.day) \n",
    "        else:\n",
    "            self.team2.draw(self.day)\n",
    "            self.team1.draw(self.day)\n",
    "            \n",
    "class Day(object):\n",
    "    # class defines a Day, consisting of several Matches objects\n",
    "    \n",
    "    def __init__(self, list_matches, day):\n",
    "        self.list_matches = list_matches\n",
    "        self.day = day\n",
    "        \n",
    "    def play_day(self):\n",
    "        for i in self.list_matches:\n",
    "            i.play_match()\n",
    "\n",
    "class League(object):\n",
    "    \n",
    "    def __init__(self, calendar, teams_names, n_days):\n",
    "        \n",
    "        #la variabile calendar rappresenta il girone da ripetere sulle n_days giornate\n",
    "        self.calendar = calendar\n",
    "        self.days = []\n",
    "        self.teams = {i:Team(i) for i in teams_names}\n",
    "        self.teams_names = teams_names\n",
    "        \n",
    "        n_teams = len(self.teams_names)\n",
    "        day = 0\n",
    "        \n",
    "        for i in range(n_days):\n",
    "            m = []\n",
    "            day += 1\n",
    "            day_schedule = self.calendar[i%(n_teams-1)]\n",
    "            \n",
    "            #print(day_schedule)\n",
    "            for match in day_schedule: #crea una giornata\n",
    "                #print(match)\n",
    "                m.append(Match(self.teams[match[0]],self.teams[match[1]],day))\n",
    "                \n",
    "            d = Day(m,day)\n",
    "            \n",
    "            self.days.append(d)\n",
    "            \n",
    "    def play(self):\n",
    "        \n",
    "        for i in self.days:\n",
    "            i.play_day()\n",
    "\n",
    "    def get_teams(self):\n",
    "        return self.teams\n",
    "    \n",
    "    def get_teams_points(self):\n",
    "        L = {}\n",
    "        for i in self.teams_names:\n",
    "            L[i] = self.teams[i].league_points\n",
    "        return L\n",
    "    \n",
    "    def print_points(self):\n",
    "        for i in self.teams_names:\n",
    "            print(i + ':\\t {} points'.format(self.teams[i].league_points))\n",
    "            #print(':\\t {} points'.format(i.league_points))\n",
    "    \n",
    "    def classifica(self):\n",
    "\n",
    "        def getKey(item): return item[1]\n",
    "        \n",
    "        unsorted_ranking = [(i, self.teams[i].league_points) for i in self.teams_names]\n",
    "        self.ranking = sorted(unsorted_ranking, key=getKey, reverse=True)\n",
    "        \n",
    "        return self.ranking\n",
    "    \n",
    "    def print_ranking(self):\n",
    "        self.classifica()\n",
    "        for i in self.ranking:\n",
    "            print(i[0] + ':\\t {} points'.format(i[1]))\n",
    "            #print(':\\t {} points'.format(i.league_points))\n"
   ]
  },
  {
   "cell_type": "markdown",
   "metadata": {
    "deletable": true,
    "editable": true
   },
   "source": [
    "### Idee per statistiche\n",
    "\n",
    "* estrarre numero di vittorie, sconfitte, pareggi\n",
    "* imbattibilitá verso altre squadre\n",
    "* serie di vittorie piú lunga, serie di sconfitte, serie di pareggi\n"
   ]
  },
  {
   "cell_type": "code",
   "execution_count": 42,
   "metadata": {
    "collapsed": false,
    "deletable": true,
    "editable": true
   },
   "outputs": [],
   "source": [
    "from fanta_calendario import *\n",
    "\n",
    "teams_names, players, abs_points = scraping('fantascandalo')\n",
    "random_leagues = create_league_random(teams,10)\n",
    "\n",
    "def print_days(days):\n",
    "\n",
    "    for i in days:\n",
    "        for j in i:\n",
    "            print(j)\n",
    "    #         print('\\n')\n",
    "        print('\\n')  \n",
    "        "
   ]
  },
  {
   "cell_type": "code",
   "execution_count": 2,
   "metadata": {
    "collapsed": false,
    "deletable": true,
    "editable": true
   },
   "outputs": [],
   "source": [
    "c = 0\n",
    "for i in test:\n",
    "    c += 1\n",
    "    print('Campionato {}\\n'.format(c))\n",
    "    print_days(i)"
   ]
  },
  {
   "cell_type": "code",
   "execution_count": 43,
   "metadata": {
    "collapsed": false,
    "deletable": true,
    "editable": true
   },
   "outputs": [
    {
     "data": {
      "text/plain": [
       "7"
      ]
     },
     "execution_count": 43,
     "metadata": {},
     "output_type": "execute_result"
    }
   ],
   "source": [
    "calendar = random_leagues[0]\n",
    "len(calendar)"
   ]
  },
  {
   "cell_type": "code",
   "execution_count": 75,
   "metadata": {
    "collapsed": false,
    "deletable": true,
    "editable": true
   },
   "outputs": [],
   "source": [
    "n_days = len(abs_points[teams_names[0]])\n",
    "test_league = League(calendar,teams_names, n_days)"
   ]
  },
  {
   "cell_type": "code",
   "execution_count": 77,
   "metadata": {
    "collapsed": false,
    "deletable": true,
    "editable": true
   },
   "outputs": [
    {
     "name": "stdout",
     "output_type": "stream",
     "text": [
      "FC ROXY:\t 27 points\n",
      "FC Pastaboy:\t 44 points\n",
      "Bucalina FC:\t 54 points\n",
      "Fc Stress:\t 28 points\n",
      "Ciolle United:\t 37 points\n",
      "AC PICCHIA:\t 33 points\n",
      "FC BOMBAGALLO:\t 25 points\n",
      "LA CORRAZZATA POTEMKIN:\t 38 points\n",
      "\n",
      "\n",
      "Bucalina FC:\t 54 points\n",
      "FC Pastaboy:\t 44 points\n",
      "LA CORRAZZATA POTEMKIN:\t 38 points\n",
      "Ciolle United:\t 37 points\n",
      "AC PICCHIA:\t 33 points\n",
      "Fc Stress:\t 28 points\n",
      "FC ROXY:\t 27 points\n",
      "FC BOMBAGALLO:\t 25 points\n"
     ]
    }
   ],
   "source": [
    "test_league.play()\n",
    "test_league.print_points()\n",
    "\n",
    "print('\\n')\n",
    "test_league.print_ranking()"
   ]
  },
  {
   "cell_type": "code",
   "execution_count": 45,
   "metadata": {
    "collapsed": true,
    "deletable": true,
    "editable": true
   },
   "outputs": [],
   "source": [
    "del League"
   ]
  },
  {
   "cell_type": "code",
   "execution_count": 25,
   "metadata": {
    "collapsed": true,
    "deletable": true,
    "editable": true
   },
   "outputs": [],
   "source": [
    "teams = test.get_teams()"
   ]
  },
  {
   "cell_type": "code",
   "execution_count": 111,
   "metadata": {
    "collapsed": false,
    "deletable": true,
    "editable": true
   },
   "outputs": [
    {
     "name": "stdout",
     "output_type": "stream",
     "text": [
      "('FC Pastaboy', 44.45)\n",
      "('Ciolle United', 39.42)\n",
      "('FC ROXY', 38.3)\n",
      "('Bucalina FC', 37.94)\n",
      "('LA CORRAZZATA POTEMKIN', 34.7)\n",
      "('Fc Stress', 34.47)\n",
      "('AC PICCHIA', 29.27)\n",
      "('FC BOMBAGALLO', 28.38)\n"
     ]
    }
   ],
   "source": [
    "\n",
    "from fanta_calendario import *\n",
    "\n",
    "# teams_names, players, abs_points = scraping('fantascandalo')\n",
    "\n",
    "n_days = len(abs_points[teams_names[0]])\n",
    "random_leagues = create_league_random(teams,5000)\n",
    "\n",
    "list_leagues = [League(random_leagues[i],teams_names, n_days) for i in range(len(random_leagues))]\n",
    "\n",
    "def stats_leagues(list_leagues,teams_names):\n",
    "    \n",
    "    from collections import Counter\n",
    "    \n",
    "    L = Counter({i:0 for i in teams_names})\n",
    "    \n",
    "    for i in list_leagues:\n",
    "        i.play()\n",
    "        d = i.get_teams_points()\n",
    "        #print(d)\n",
    "        d = Counter(d)\n",
    "        L += d\n",
    "    \n",
    "    L2 = {k: round(L[k]/len(list_leagues),2) for k in L.keys()}\n",
    "    \n",
    "    L3 = sorted([(i,L2[i]) for i in L2],key = lambda j: j[1], reverse = True)\n",
    "    \n",
    "    \n",
    "    return L3\n",
    "\n",
    "L = stats_leagues(list_leagues,teams_names)\n",
    "\n",
    "for i in L:\n",
    "    print(i)"
   ]
  },
  {
   "cell_type": "code",
   "execution_count": 101,
   "metadata": {
    "collapsed": false,
    "deletable": true,
    "editable": true
   },
   "outputs": [
    {
     "data": {
      "text/plain": [
       "26"
      ]
     },
     "execution_count": 101,
     "metadata": {},
     "output_type": "execute_result"
    }
   ],
   "source": [
    "len(list_leagues[0].days)"
   ]
  },
  {
   "cell_type": "code",
   "execution_count": 91,
   "metadata": {
    "collapsed": false,
    "deletable": true,
    "editable": true
   },
   "outputs": [],
   "source": [
    "from collections import Counter\n",
    "L2 = Counter({i:26 for i in teams_names})"
   ]
  },
  {
   "cell_type": "code",
   "execution_count": 97,
   "metadata": {
    "collapsed": false,
    "deletable": true,
    "editable": true
   },
   "outputs": [],
   "source": [
    "L2 = {k: round(L[k]/26,2) for k in L.keys()}"
   ]
  },
  {
   "cell_type": "code",
   "execution_count": 98,
   "metadata": {
    "collapsed": false,
    "deletable": true,
    "editable": true
   },
   "outputs": [
    {
     "name": "stdout",
     "output_type": "stream",
     "text": [
      "{'FC ROXY': 15.5, 'FC Pastaboy': 17.42, 'Bucalina FC': 13.5, 'Fc Stress': 13.38, 'Ciolle United': 15.0, 'AC PICCHIA': 10.42, 'FC BOMBAGALLO': 11.69, 'LA CORRAZZATA POTEMKIN': 13.54}\n"
     ]
    }
   ],
   "source": [
    "print(L2)"
   ]
  },
  {
   "cell_type": "code",
   "execution_count": null,
   "metadata": {
    "collapsed": true,
    "deletable": true,
    "editable": true
   },
   "outputs": [],
   "source": []
  }
 ],
 "metadata": {
  "anaconda-cloud": {},
  "kernelspec": {
   "display_name": "Python [default]",
   "language": "python",
   "name": "python3"
  },
  "language_info": {
   "codemirror_mode": {
    "name": "ipython",
    "version": 3
   },
   "file_extension": ".py",
   "mimetype": "text/x-python",
   "name": "python",
   "nbconvert_exporter": "python",
   "pygments_lexer": "ipython3",
   "version": "3.5.3"
  }
 },
 "nbformat": 4,
 "nbformat_minor": 2
}
